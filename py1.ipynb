{
 "cells": [
  {
   "cell_type": "code",
   "execution_count": 2,
   "metadata": {},
   "outputs": [],
   "source": [
    "import pandas as pd\n",
    "import numpy as np\n",
    "import matplotlib.pyplot as plt"
   ]
  },
  {
   "cell_type": "code",
   "execution_count": 5,
   "metadata": {},
   "outputs": [],
   "source": [
    "A = np.random.normal(size=(50000, 100))\n"
   ]
  },
  {
   "cell_type": "code",
   "execution_count": 4,
   "metadata": {},
   "outputs": [
    {
     "name": "stdout",
     "output_type": "stream",
     "text": [
      "[[-0.21636943  0.81619409 -0.86226824 ... -0.06041877 -0.36976015\n",
      "   0.20444563]\n",
      " [-0.43686948 -0.12092603  0.39766726 ... -0.72978088 -0.3110992\n",
      "   1.98588173]\n",
      " [ 0.18092149  1.93011984  1.32948073 ...  0.71799651 -0.49694617\n",
      "   0.33792795]\n",
      " ...\n",
      " [-0.31220611  0.96455359  0.37155775 ... -0.23260034  0.71413827\n",
      "   1.72136968]\n",
      " [ 0.78777483  0.31751033 -0.00269787 ... -2.12529662 -0.21532451\n",
      "   1.34179383]\n",
      " [-0.64270664 -1.54552841 -0.48543319 ... -1.26483193  0.24858451\n",
      "   0.95783378]]\n"
     ]
    }
   ],
   "source": [
    "print(A)"
   ]
  },
  {
   "cell_type": "code",
   "execution_count": 8,
   "metadata": {},
   "outputs": [],
   "source": [
    "x = np.ones((100,1), dtype=int)"
   ]
  },
  {
   "cell_type": "code",
   "execution_count": 10,
   "metadata": {},
   "outputs": [],
   "source": [
    "b = np.dot(A,x)"
   ]
  },
  {
   "cell_type": "code",
   "execution_count": null,
   "metadata": {},
   "outputs": [],
   "source": []
  },
  {
   "cell_type": "code",
   "execution_count": null,
   "metadata": {},
   "outputs": [],
   "source": []
  }
 ],
 "metadata": {
  "kernelspec": {
   "display_name": "Python 3",
   "language": "python",
   "name": "python3"
  },
  "language_info": {
   "codemirror_mode": {
    "name": "ipython",
    "version": 3
   },
   "file_extension": ".py",
   "mimetype": "text/x-python",
   "name": "python",
   "nbconvert_exporter": "python",
   "pygments_lexer": "ipython3",
   "version": "3.7.1"
  }
 },
 "nbformat": 4,
 "nbformat_minor": 2
}
