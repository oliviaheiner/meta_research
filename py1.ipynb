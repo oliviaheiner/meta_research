{
 "cells": [
  {
   "cell_type": "markdown",
   "metadata": {},
   "source": [
    "### Trial run of SKM Algorithm"
   ]
  },
  {
   "cell_type": "code",
   "execution_count": 28,
   "metadata": {},
   "outputs": [],
   "source": [
    "# import libraries\n",
    "import pandas as pd\n",
    "import numpy as np\n",
    "import matplotlib.pyplot as plt\n",
    "import random\n",
    "\n",
    "# Make a 50000x100 matrix A with random values from standard normal distribution.\n",
    "A = np.random.normal(size=(50000, 100))\n",
    "\n",
    "# Make a 100x1 matrix x of all ones\n",
    "x = np.ones((100,1), dtype=int)\n",
    "\n",
    "# set b = Ax\n",
    "b = np.dot(A,x)\n",
    "\n",
    "# reassign x to be a list, where x[i] will represent the point Xi in the algorithm\n",
    "x = list()\n",
    "\n",
    "# make random values for X0\n",
    "x.append(np.random.normal(loc = 1, scale =1, size=(100, 1)))"
   ]
  },
  {
   "cell_type": "code",
   "execution_count": 22,
   "metadata": {},
   "outputs": [],
   "source": [
    "# set beta value\n",
    "B = 1000\n",
    "\n",
    "# set lambda value\n",
    "lam = 1"
   ]
  },
  {
   "cell_type": "code",
   "execution_count": null,
   "metadata": {},
   "outputs": [],
   "source": [
    "i = 0\n",
    "while(x[i] != b):\n",
    "    T_k_row_indices = random.sample(range(0, 49999), 5000)\n",
    "    [(lambda i: )(x) for x in range(10)]\n",
    "    "
   ]
  },
  {
   "cell_type": "code",
   "execution_count": 35,
   "metadata": {},
   "outputs": [
    {
     "name": "stdout",
     "output_type": "stream",
     "text": [
      "[-8.5926052]\n"
     ]
    }
   ],
   "source": [
    "print(np.dot(A[5,:],x[0])-b[5])"
   ]
  },
  {
   "cell_type": "code",
   "execution_count": 49,
   "metadata": {},
   "outputs": [],
   "source": [
    "T = [5,31,12]\n",
    "T_projections = [(np.dot(A[i,:],x[0])-b[i]) for i in T]\n",
    "T_projections = [(i[0]) for i in T_projections]"
   ]
  },
  {
   "cell_type": "code",
   "execution_count": 50,
   "metadata": {},
   "outputs": [
    {
     "name": "stdout",
     "output_type": "stream",
     "text": [
      "[-8.59260520396806, 3.8072178271458395, 17.018976757819868]\n"
     ]
    }
   ],
   "source": [
    "print(T_projections)"
   ]
  },
  {
   "cell_type": "code",
   "execution_count": null,
   "metadata": {},
   "outputs": [],
   "source": []
  },
  {
   "cell_type": "code",
   "execution_count": null,
   "metadata": {},
   "outputs": [],
   "source": []
  }
 ],
 "metadata": {
  "kernelspec": {
   "display_name": "Python 3",
   "language": "python",
   "name": "python3"
  },
  "language_info": {
   "codemirror_mode": {
    "name": "ipython",
    "version": 3
   },
   "file_extension": ".py",
   "mimetype": "text/x-python",
   "name": "python",
   "nbconvert_exporter": "python",
   "pygments_lexer": "ipython3",
   "version": "3.7.1"
  }
 },
 "nbformat": 4,
 "nbformat_minor": 2
}
